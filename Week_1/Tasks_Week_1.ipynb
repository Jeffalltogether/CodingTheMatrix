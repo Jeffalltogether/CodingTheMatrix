{
 "cells": [
  {
   "cell_type": "code",
   "execution_count": 1,
   "metadata": {
    "collapsed": false
   },
   "outputs": [
    {
     "name": "stdout",
     "output_type": "stream",
     "text": [
      "set([(2.5+1j), (2+1j), (3+1j), (2+2j), (3+2j), (2.25+1j), (3.25+1j), (2.75+1j), (1.75+1j)])\n"
     ]
    }
   ],
   "source": [
    "%matplotlib inline\n",
    "from math import sqrt\n",
    "from plotting import plot\n",
    "\n",
    "S = {2+2j, 3+2j, 1.75 + 1j, 2+1j, 2.25 + 1j, 2.5+1j, 2.75 + 1j, 3+1j, 3.25 + 1j}\n",
    "print(S)\n",
    "plot(S,4)"
   ]
  },
  {
   "cell_type": "code",
   "execution_count": 2,
   "metadata": {
    "collapsed": false
   },
   "outputs": [
    {
     "name": "stdout",
     "output_type": "stream",
     "text": [
      "the absolute value of 7+4j: 8.062\n",
      "the conjugate value of 7+4j: 7.0-4.0i\n"
     ]
    },
    {
     "data": {
      "text/plain": [
       "(7-4j)"
      ]
     },
     "execution_count": 2,
     "metadata": {},
     "output_type": "execute_result"
    }
   ],
   "source": [
    "###The absolute value of a complex number\n",
    "x = 7+4j\n",
    "print('the absolute value of 7+4j: %.3f') %(abs(x))\n",
    "\n",
    "#also\n",
    "sqrt(x.real**2+x.imag**2)\n",
    "\n",
    "###The conjugate of a complex number\n",
    "x_bar = x.conjugate()\n",
    "print('the conjugate value of 7+4j: %.1f%.1fi') %(x_bar.real, x_bar.imag)\n",
    "#also\n",
    "x.real-x.imag*1j"
   ]
  },
  {
   "cell_type": "code",
   "execution_count": 3,
   "metadata": {
    "collapsed": false
   },
   "outputs": [],
   "source": [
    "#Translation complex numbers in set(S)\n",
    "plot({1+2j+z for z in S},4)"
   ]
  },
  {
   "cell_type": "code",
   "execution_count": 4,
   "metadata": {
    "collapsed": true
   },
   "outputs": [],
   "source": [
    "#Scaling complex numbers in set(S)\n",
    "plot({0.5*z for z in S},4)"
   ]
  },
  {
   "cell_type": "code",
   "execution_count": 5,
   "metadata": {
    "collapsed": true
   },
   "outputs": [],
   "source": [
    "#rotate by 180 degrees complex numbers in set(S)\n",
    "plot({-1*z for z in S},4)"
   ]
  },
  {
   "cell_type": "code",
   "execution_count": 6,
   "metadata": {
    "collapsed": false
   },
   "outputs": [],
   "source": [
    "#rotate by 90 degrees complex numbers in set(S)\n",
    "plot({1j*z for z in S},4)"
   ]
  },
  {
   "cell_type": "code",
   "execution_count": 7,
   "metadata": {
    "collapsed": false
   },
   "outputs": [],
   "source": [
    "from image import file2image\n",
    "data = file2image('img01.png')\n",
    "\n",
    "pts = [(-1j)*(j-166+i*1j) for i in range(len(data[:][0])) for j in range(len(data[0][:])) if data[j][i][0] < 120]\n",
    "plot(pts,200)"
   ]
  },
  {
   "cell_type": "code",
   "execution_count": 8,
   "metadata": {
    "collapsed": false
   },
   "outputs": [],
   "source": [
    "# Task 1.4.11\n",
    "S = {2+2j, 3+2j, 1.75 + 1j, 2+1j, 2.25 + 1j, 2.5+1j, 2.75 + 1j, 3+1j, 3.25 + 1j}\n",
    "def average(a):\n",
    "    return sum(a)/len(a)\n",
    "\n",
    "f = average([num.real for num in S]) + average([num.imag for num in S])*1j\n",
    "plot({num-f for num in S}, 4)"
   ]
  },
  {
   "cell_type": "code",
   "execution_count": 9,
   "metadata": {
    "collapsed": false
   },
   "outputs": [],
   "source": [
    "# Task 1.4.12\n",
    "f = average([num.real for num in pts]) + average([num.imag for num in pts])*1j\n",
    "plot({num-f for num in pts}, 200)"
   ]
  },
  {
   "cell_type": "code",
   "execution_count": 16,
   "metadata": {
    "collapsed": false
   },
   "outputs": [],
   "source": [
    "# Playing with Euler's Formula\n",
    "# for any angle in radians (the argument; theta) Euler's formula can generate the point on the unit circle that results from the \n",
    "# angle between 1 + 0i and the anlge (argument)\n",
    "from math import e\n",
    "from math import pi\n",
    "\n",
    "n = 20\n",
    "w = e**((2*pi*1j)/n)\n",
    "numbers = range(0,20,1)\n",
    "points = [w**i for i in numbers]\n",
    "plot(points,4)\n"
   ]
  },
  {
   "cell_type": "code",
   "execution_count": 26,
   "metadata": {
    "collapsed": false
   },
   "outputs": [],
   "source": [
    "angles = [0, pi/4, pi/2, 3*pi/4, pi, 5*pi/4, 3*pi/2, 7*pi/4, 2*pi]\n",
    "points = [e**(1j*theta) for theta in angles]\n",
    "\n",
    "plot(points,4)"
   ]
  },
  {
   "cell_type": "code",
   "execution_count": 31,
   "metadata": {
    "collapsed": false
   },
   "outputs": [
    {
     "data": {
      "text/plain": [
       "(1+0j)"
      ]
     },
     "execution_count": 31,
     "metadata": {},
     "output_type": "execute_result"
    }
   ],
   "source": [
    "z = 1+0j\n",
    "abs(z)*e**(0*1j)"
   ]
  },
  {
   "cell_type": "code",
   "execution_count": 33,
   "metadata": {
    "collapsed": false
   },
   "outputs": [],
   "source": [
    "points = [s*e**((pi/4)*1j) for s in S]\n",
    "plot(points,4)"
   ]
  },
  {
   "cell_type": "code",
   "execution_count": 34,
   "metadata": {
    "collapsed": true
   },
   "outputs": [],
   "source": [
    "data = file2image('img01.png')\n",
    "\n",
    "pts = [((-1j)*(j-166+i*1j))*e**((pi/4)*1j) for i in range(len(data[:][0])) for j in range(len(data[0][:])) if data[j][i][0] < 120]\n",
    "plot(pts,200)"
   ]
  },
  {
   "cell_type": "code",
   "execution_count": 55,
   "metadata": {
    "collapsed": false
   },
   "outputs": [],
   "source": [
    "# Task 1.4.20\n",
    "data = file2image('img01.png')\n",
    "pts = [(-1j)*(j-166+i*1j) for i in range(len(data[:][0])) for j in range(len(data[0][:])) if data[j][i][0] < 120]\n",
    "\n",
    "def average(a):\n",
    "    return sum(a)/len(a)\n",
    "realhigh = max([num.real for num in pts])-min([num.real for num in pts])\n",
    "reallow = min([num.real for num in pts])-min([num.real for num in pts])\n",
    "\n",
    "imaghigh = max([num.imag for num in pts])-min([num.real for num in pts])*1j\n",
    "imaglow = min([num.imag for num in pts])-min([num.real for num in pts])*1j\n",
    "\n",
    "f = 0.5*realhigh + 0.5j*imaghigh\n",
    "plot({(num-f)*e**((pi/4)*1j) for num in pts}, 200)"
   ]
  },
  {
   "cell_type": "code",
   "execution_count": null,
   "metadata": {
    "collapsed": false
   },
   "outputs": [],
   "source": []
  },
  {
   "cell_type": "code",
   "execution_count": null,
   "metadata": {
    "collapsed": true
   },
   "outputs": [],
   "source": []
  }
 ],
 "metadata": {
  "kernelspec": {
   "display_name": "Python 2",
   "language": "python",
   "name": "python2"
  },
  "language_info": {
   "codemirror_mode": {
    "name": "ipython",
    "version": 2
   },
   "file_extension": ".py",
   "mimetype": "text/x-python",
   "name": "python",
   "nbconvert_exporter": "python",
   "pygments_lexer": "ipython2",
   "version": "2.7.11"
  }
 },
 "nbformat": 4,
 "nbformat_minor": 0
}
