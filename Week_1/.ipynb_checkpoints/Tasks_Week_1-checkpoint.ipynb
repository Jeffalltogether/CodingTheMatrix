{
 "cells": [
  {
   "cell_type": "code",
   "execution_count": 1,
   "metadata": {
    "collapsed": false
   },
   "outputs": [
    {
     "name": "stdout",
     "output_type": "stream",
     "text": [
      "set([(2.5+1j), (2+1j), (3+1j), (2+2j), (3+2j), (2.25+1j), (3.25+1j), (2.75+1j), (1.75+1j)])\n"
     ]
    }
   ],
   "source": [
    "%matplotlib inline\n",
    "from math import sqrt\n",
    "from plotting import plot\n",
    "\n",
    "S = {2+2j, 3+2j, 1.75 + 1j, 2+1j, 2.25 + 1j, 2.5+1j, 2.75 + 1j, 3+1j, 3.25 + 1j}\n",
    "print(S)\n",
    "plot(S,4)"
   ]
  },
  {
   "cell_type": "code",
   "execution_count": 2,
   "metadata": {
    "collapsed": false
   },
   "outputs": [
    {
     "name": "stdout",
     "output_type": "stream",
     "text": [
      "the absolute value of 7+4j: 8.062\n",
      "the conjugate value of 7+4j: 7.0-4.0i\n"
     ]
    },
    {
     "data": {
      "text/plain": [
       "(7-4j)"
      ]
     },
     "execution_count": 2,
     "metadata": {},
     "output_type": "execute_result"
    }
   ],
   "source": [
    "###The absolute value of a complex number\n",
    "x = 7+4j\n",
    "print('the absolute value of 7+4j: %.3f') %(abs(x))\n",
    "\n",
    "#also\n",
    "sqrt(x.real**2+x.imag**2)\n",
    "\n",
    "###The conjugate of a complex number\n",
    "x_bar = x.conjugate()\n",
    "print('the conjugate value of 7+4j: %.1f%.1fi') %(x_bar.real, x_bar.imag)\n",
    "#also\n",
    "x.real-x.imag*1j"
   ]
  },
  {
   "cell_type": "code",
   "execution_count": 3,
   "metadata": {
    "collapsed": false
   },
   "outputs": [],
   "source": [
    "#Translation complex numbers in set(S)\n",
    "plot({1+2j+z for z in S},4)"
   ]
  },
  {
   "cell_type": "code",
   "execution_count": 4,
   "metadata": {
    "collapsed": true
   },
   "outputs": [],
   "source": [
    "#Scaling complex numbers in set(S)\n",
    "plot({0.5*z for z in S},4)"
   ]
  },
  {
   "cell_type": "code",
   "execution_count": 5,
   "metadata": {
    "collapsed": true
   },
   "outputs": [],
   "source": [
    "#rotate by 180 degrees complex numbers in set(S)\n",
    "plot({-1*z for z in S},4)"
   ]
  },
  {
   "cell_type": "code",
   "execution_count": 6,
   "metadata": {
    "collapsed": false
   },
   "outputs": [],
   "source": [
    "#rotate by 90 degrees complex numbers in set(S)\n",
    "plot({1j*z for z in S},4)"
   ]
  },
  {
   "cell_type": "code",
   "execution_count": 7,
   "metadata": {
    "collapsed": false
   },
   "outputs": [],
   "source": [
    "from image import file2image\n",
    "data = file2image('img01.png')\n",
    "\n",
    "pts = [(-1j)*(j-166+i*1j) for i in range(len(data[:][0])) for j in range(len(data[0][:])) if data[j][i][0] < 120]\n",
    "plot(pts,200)"
   ]
  },
  {
   "cell_type": "code",
   "execution_count": 8,
   "metadata": {
    "collapsed": false
   },
   "outputs": [],
   "source": [
    "# Task 1.4.11\n",
    "S = {2+2j, 3+2j, 1.75 + 1j, 2+1j, 2.25 + 1j, 2.5+1j, 2.75 + 1j, 3+1j, 3.25 + 1j}\n",
    "def average(a):\n",
    "    return sum(a)/len(a)\n",
    "\n",
    "f = average([num.real for num in S]) + average([num.imag for num in S])*1j\n",
    "plot({num-f for num in S}, 4)"
   ]
  },
  {
   "cell_type": "code",
   "execution_count": 9,
   "metadata": {
    "collapsed": false
   },
   "outputs": [],
   "source": [
    "# Task 1.4.12\n",
    "f = average([num.real for num in pts]) + average([num.imag for num in pts])*1j\n",
    "plot({num-f for num in pts}, 200)"
   ]
  },
  {
   "cell_type": "code",
   "execution_count": 16,
   "metadata": {
    "collapsed": false
   },
   "outputs": [],
   "source": [
    "# Playing with Euler's Formula\n",
    "# for any angle in radians (the argument; theta) Euler's formula can generate the point on the unit circle that results from the \n",
    "# angle between 1 + 0i and the anlge (argument)\n",
    "from math import e\n",
    "from math import pi\n",
    "\n",
    "n = 20\n",
    "w = e**((2*pi*1j)/n)\n",
    "numbers = range(0,20,1)\n",
    "points = [w**i for i in numbers]\n",
    "plot(points,4)\n"
   ]
  },
  {
   "cell_type": "code",
   "execution_count": 26,
   "metadata": {
    "collapsed": false
   },
   "outputs": [],
   "source": [
    "angles = [0, pi/4, pi/2, 3*pi/4, pi, 5*pi/4, 3*pi/2, 7*pi/4, 2*pi]\n",
    "points = [e**(1j*theta) for theta in angles]\n",
    "\n",
    "plot(points,4)"
   ]
  },
  {
   "cell_type": "code",
   "execution_count": 31,
   "metadata": {
    "collapsed": false
   },
   "outputs": [
    {
     "data": {
      "text/plain": [
       "(1+0j)"
      ]
     },
     "execution_count": 31,
     "metadata": {},
     "output_type": "execute_result"
    }
   ],
   "source": [
    "z = 1+0j\n",
    "abs(z)*e**(0*1j)"
   ]
  },
  {
   "cell_type": "code",
   "execution_count": 33,
   "metadata": {
    "collapsed": false
   },
   "outputs": [],
   "source": [
    "points = [s*e**((pi/4)*1j) for s in S]\n",
    "plot(points,4)"
   ]
  },
  {
   "cell_type": "code",
   "execution_count": 34,
   "metadata": {
    "collapsed": true
   },
   "outputs": [],
   "source": [
    "data = file2image('img01.png')\n",
    "\n",
    "pts = [((-1j)*(j-166+i*1j))*e**((pi/4)*1j) for i in range(len(data[:][0])) for j in range(len(data[0][:])) if data[j][i][0] < 120]\n",
    "plot(pts,200)"
   ]
  },
  {
   "cell_type": "code",
   "execution_count": 55,
   "metadata": {
    "collapsed": false
   },
   "outputs": [],
   "source": [
    "# Task 1.4.20\n",
    "data = file2image('img01.png')\n",
    "pts = [(-1j)*(j-166+i*1j) for i in range(len(data[:][0])) for j in range(len(data[0][:])) if data[j][i][0] < 120]\n",
    "\n",
    "def average(a):\n",
    "    return sum(a)/len(a)\n",
    "realhigh = max([num.real for num in pts])-min([num.real for num in pts])\n",
    "reallow = min([num.real for num in pts])-min([num.real for num in pts])\n",
    "\n",
    "imaghigh = max([num.imag for num in pts])-min([num.real for num in pts])*1j\n",
    "imaglow = min([num.imag for num in pts])-min([num.real for num in pts])*1j\n",
    "\n",
    "f = 0.5*realhigh + 0.5j*imaghigh\n",
    "plot({(num-f)*e**((pi/4)*1j) for num in pts}, 200)"
   ]
  },
  {
   "cell_type": "code",
   "execution_count": 2,
   "metadata": {
    "collapsed": false
   },
   "outputs": [
    {
     "data": {
      "text/plain": [
       "0"
      ]
     },
     "execution_count": 2,
     "metadata": {},
     "output_type": "execute_result"
    }
   ],
   "source": [
    "# GF2 is short for Galois Field\n",
    "from GF2 import one\n",
    "from GF2 import zero\n",
    "\n",
    "print(zero + one)\n",
    "print(one + one)"
   ]
  },
  {
   "cell_type": "code",
   "execution_count": 5,
   "metadata": {
    "collapsed": false
   },
   "outputs": [
    {
     "ename": "SyntaxError",
     "evalue": "invalid syntax (<ipython-input-5-46c486b55740>, line 4)",
     "output_type": "error",
     "traceback": [
      "\u001b[1;36m  File \u001b[1;32m\"<ipython-input-5-46c486b55740>\"\u001b[1;36m, line \u001b[1;32m4\u001b[0m\n\u001b[1;33m    dictionary{}\u001b[0m\n\u001b[1;37m              ^\u001b[0m\n\u001b[1;31mSyntaxError\u001b[0m\u001b[1;31m:\u001b[0m invalid syntax\n"
     ]
    }
   ],
   "source": [
    "s = {a,b,c,d,e,f,g,h,i,j,k,l,m,n,o,p,q,r,s,t,u,v,w,x,y,z}\n",
    "\n",
    "dictionary{}\n",
    "hash = ['10101', '00100', '10101', '01011', '11001', '00011', '01011', '10101', '00100', '11001', '11010']\n",
    "key = [11111]\n",
    "\n"
   ]
  },
  {
   "cell_type": "code",
   "execution_count": 154,
   "metadata": {
    "collapsed": false
   },
   "outputs": [
    {
     "name": "stdout",
     "output_type": "stream",
     "text": [
      "['00000', '00001', '00010', '00011', '00100', '00101', '00110', '00111', '01000', '01001', '01010', '01011', '01100', '01101', '01110', '01111', '10000', '10001', '10010', '10011', '10100', '10101', '10110', '10111', '11000', '11001', '11010', '11011', '11100', '11101', '11110']\n",
      "00000\n",
      "the lenght of the message is 11\n",
      "['v', 'e', 'v', 'l', 'z', 'd', 'l', 'v', 'e', 'z', ' ']\n",
      "00001\n",
      "the lenght of the message is 11\n",
      "['u', 'f', 'u', 'k', 'y', 'c', 'k', 'u', 'f', 'y', 0]\n",
      "00010\n",
      "the lenght of the message is 11\n",
      "['x', 'g', 'x', 'j', 0, 'b', 'j', 'x', 'g', 0, 'y']\n",
      "00011\n",
      "the lenght of the message is 11\n",
      "['w', 'h', 'w', 'i', ' ', 'a', 'i', 'w', 'h', ' ', 'z']\n",
      "00100\n",
      "the lenght of the message is 11\n",
      "['r', 'a', 'r', 'p', 0, 'h', 'p', 'r', 'a', 0, 0]\n",
      "00101\n",
      "the lenght of the message is 11\n",
      "['q', 'b', 'q', 'o', 0, 'g', 'o', 'q', 'b', 0, 0]\n",
      "00110\n",
      "the lenght of the message is 11\n",
      "['t', 'c', 't', 'n', 0, 'f', 'n', 't', 'c', 0, 0]\n",
      "00111\n",
      "the lenght of the message is 11\n",
      "['s', 'd', 's', 'm', 0, 'e', 'm', 's', 'd', 0, 0]\n",
      "01000\n",
      "the lenght of the message is 11\n",
      "[0, 'm', 0, 'd', 'r', 'l', 'd', 0, 'm', 'r', 's']\n",
      "01001\n",
      "the lenght of the message is 11\n",
      "[0, 'n', 0, 'c', 'q', 'k', 'c', 0, 'n', 'q', 't']\n",
      "01010\n",
      "the lenght of the message is 11\n",
      "[0, 'o', 0, 'b', 't', 'j', 'b', 0, 'o', 't', 'q']\n",
      "01011\n",
      "the lenght of the message is 11\n",
      "[0, 'p', 0, 'a', 's', 'i', 'a', 0, 'p', 's', 'r']\n",
      "01100\n",
      "the lenght of the message is 11\n",
      "['z', 'i', 'z', 'h', 'v', 'p', 'h', 'z', 'i', 'v', 'w']\n",
      "01101\n",
      "the lenght of the message is 11\n",
      "['y', 'j', 'y', 'g', 'u', 'o', 'g', 'y', 'j', 'u', 'x']\n",
      "01110\n",
      "the lenght of the message is 11\n",
      "[0, 'k', 0, 'f', 'x', 'n', 'f', 0, 'k', 'x', 'u']\n",
      "01111\n",
      "the lenght of the message is 11\n",
      "[' ', 'l', ' ', 'e', 'w', 'm', 'e', ' ', 'l', 'w', 'v']\n",
      "10000\n",
      "the lenght of the message is 11\n",
      "['f', 'u', 'f', 0, 'j', 't', 0, 'f', 'u', 'j', 'k']\n",
      "10001\n",
      "the lenght of the message is 11\n",
      "['e', 'v', 'e', ' ', 'i', 's', ' ', 'e', 'v', 'i', 'l']\n",
      "10010\n",
      "the lenght of the message is 11\n",
      "['h', 'w', 'h', 'z', 'l', 'r', 'z', 'h', 'w', 'l', 'i']\n",
      "10011\n",
      "the lenght of the message is 11\n",
      "['g', 'x', 'g', 'y', 'k', 'q', 'y', 'g', 'x', 'k', 'j']\n",
      "10100\n",
      "the lenght of the message is 11\n",
      "['b', 'q', 'b', 0, 'n', 'x', 0, 'b', 'q', 'n', 'o']\n",
      "10101\n",
      "the lenght of the message is 11\n",
      "['a', 'r', 'a', 0, 'm', 'w', 0, 'a', 'r', 'm', 'p']\n",
      "10110\n",
      "the lenght of the message is 11\n",
      "['d', 's', 'd', 0, 'p', 'v', 0, 'd', 's', 'p', 'm']\n",
      "10111\n",
      "the lenght of the message is 11\n",
      "['c', 't', 'c', 0, 'o', 'u', 0, 'c', 't', 'o', 'n']\n",
      "11000\n",
      "the lenght of the message is 11\n",
      "['n', 0, 'n', 't', 'b', 0, 't', 'n', 0, 'b', 'c']\n",
      "11001\n",
      "the lenght of the message is 11\n",
      "['m', 0, 'm', 's', 'a', ' ', 's', 'm', 0, 'a', 'd']\n",
      "11010\n",
      "the lenght of the message is 11\n",
      "['p', 0, 'p', 'r', 'd', 'z', 'r', 'p', 0, 'd', 'a']\n",
      "11011\n",
      "the lenght of the message is 11\n",
      "['o', 0, 'o', 'q', 'c', 'y', 'q', 'o', 0, 'c', 'b']\n",
      "11100\n",
      "the lenght of the message is 11\n",
      "['j', 'y', 'j', 'x', 'f', 0, 'x', 'j', 'y', 'f', 'g']\n",
      "11101\n",
      "the lenght of the message is 11\n",
      "['i', 'z', 'i', 'w', 'e', 0, 'w', 'i', 'z', 'e', 'h']\n",
      "11110\n",
      "the lenght of the message is 11\n",
      "['l', ' ', 'l', 'v', 'h', 0, 'v', 'l', ' ', 'h', 'e']\n"
     ]
    }
   ],
   "source": [
    "# problem 1.5.1\n",
    "letters = ['a','b','c','d','e','f','g','h','i','j','k','l','m','n','o','p','q','r','s','t','u','v','w','x','y','z',' ']\n",
    "binaryDict = {'{0:05b}'.format(i):letters[i] for i in range(len(letters))}\n",
    "\n",
    "codedText = [1,0,1,0,1,0,0,1,0,0,1,0,1,0,1,0,1,0,1,1,1,1,0,0,1,0,0,0,1,1,0,1,0,1,1,1,0,1,0,1,0,0,1,0,0,1,1,0,0,1,1,1,0,1,0]\n",
    "keys = ['{0:05b}'.format(i) for i in range(31)]\n",
    "print(keys)\n",
    "\n",
    "for key in keys:\n",
    "    print(key)\n",
    "    key = list(key)\n",
    "    testkey = key * (len(codedText)/len(key))\n",
    "    cypher = [0]*len(codedText)\n",
    "    \n",
    "    for i,num in enumerate(codedText):\n",
    "        cypher[i] = num + int(testkey[i])\n",
    "        if cypher[i] == 2:\n",
    "            cypher[i] = 0\n",
    "    \n",
    "    decode = [0]*(len(codedText)/5)\n",
    "    for i in range(0,len(codedText),5):\n",
    "        letter = \"%i%i%i%i%i\" %(cypher[i+0],cypher[i+1],cypher[i+2],cypher[i+3],cypher[i+4])\n",
    "        try:\n",
    "            decode[i/5] = binaryDict[letter]\n",
    "        except (KeyError, IndexError):\n",
    "            pass\n",
    "    print('the lenght of the message is %i') %(len(decode))\n",
    "    print(decode)"
   ]
  },
  {
   "cell_type": "code",
   "execution_count": 151,
   "metadata": {
    "collapsed": false
   },
   "outputs": [
    {
     "data": {
      "text/plain": [
       "'v'"
      ]
     },
     "execution_count": 151,
     "metadata": {},
     "output_type": "execute_result"
    }
   ],
   "source": [
    "binaryDict['10101']"
   ]
  },
  {
   "cell_type": "code",
   "execution_count": 144,
   "metadata": {
    "collapsed": false
   },
   "outputs": [
    {
     "data": {
      "text/plain": [
       "[]"
      ]
     },
     "execution_count": 144,
     "metadata": {},
     "output_type": "execute_result"
    }
   ],
   "source": [
    "\n"
   ]
  },
  {
   "cell_type": "code",
   "execution_count": 110,
   "metadata": {
    "collapsed": false
   },
   "outputs": [
    {
     "name": "stdout",
     "output_type": "stream",
     "text": [
      "['1', '1', '1', '1', '1']\n"
     ]
    }
   ],
   "source": []
  },
  {
   "cell_type": "code",
   "execution_count": null,
   "metadata": {
    "collapsed": true
   },
   "outputs": [],
   "source": []
  }
 ],
 "metadata": {
  "kernelspec": {
   "display_name": "Python 2",
   "language": "python",
   "name": "python2"
  },
  "language_info": {
   "codemirror_mode": {
    "name": "ipython",
    "version": 2
   },
   "file_extension": ".py",
   "mimetype": "text/x-python",
   "name": "python",
   "nbconvert_exporter": "python",
   "pygments_lexer": "ipython2",
   "version": "2.7.11"
  }
 },
 "nbformat": 4,
 "nbformat_minor": 0
}
