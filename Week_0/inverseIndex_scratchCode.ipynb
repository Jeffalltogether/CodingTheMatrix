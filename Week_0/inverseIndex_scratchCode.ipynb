{
 "cells": [
  {
   "cell_type": "markdown",
   "metadata": {
    "collapsed": true
   },
   "source": [
    "# Make Inverse Index"
   ]
  },
  {
   "cell_type": "code",
   "execution_count": 181,
   "metadata": {
    "collapsed": true
   },
   "outputs": [],
   "source": [
    "documents = ['hello john', 'john went home', 'his home is in Texas']"
   ]
  },
  {
   "cell_type": "code",
   "execution_count": 182,
   "metadata": {
    "collapsed": false
   },
   "outputs": [
    {
     "name": "stdout",
     "output_type": "stream",
     "text": [
      "[0, 1, 2]\n",
      "[['hello', 'john'], ['john', 'went', 'home'], ['his', 'home', 'is', 'in', 'Texas']]\n",
      "set(['his', 'is', 'in', 'home', 'went', 'john', 'hello', 'Texas'])\n",
      "[(0, ['hello', 'john']), (1, ['john', 'went', 'home']), (2, ['his', 'home', 'is', 'in', 'Texas'])]\n"
     ]
    }
   ],
   "source": [
    "# load the file\n",
    "#source = open(strlist)\n",
    "\n",
    "#convert to list of strings\n",
    "#documents = list(source)\n",
    "\n",
    "#generate document numbers\n",
    "docNum = [num for num,string in enumerate(documents)]\n",
    "\n",
    "#generate word list for each document\n",
    "docWords = [string.split() for string in documents]\n",
    "\n",
    "#generate list of [[docNum:docWords]]\n",
    "numWords = zip(docNum, docWords)\n",
    "\n",
    "#generate list of words\n",
    "words = {word for string in docWords for word in string}\n",
    "\n",
    "\n",
    "print(docNum)\n",
    "print(docWords)\n",
    "print(words)\n",
    "print(numWords)"
   ]
  },
  {
   "cell_type": "code",
   "execution_count": 183,
   "metadata": {
    "collapsed": false
   },
   "outputs": [
    {
     "data": {
      "text/plain": [
       "{'Texas': [2],\n",
       " 'hello': [0],\n",
       " 'his': [2],\n",
       " 'home': [1, 2],\n",
       " 'in': [2],\n",
       " 'is': [2],\n",
       " 'john': [0, 1],\n",
       " 'went': [1]}"
      ]
     },
     "execution_count": 183,
     "metadata": {},
     "output_type": "execute_result"
    }
   ],
   "source": [
    "#search each word in the word list for match in the dictionary\n",
    "inverseIndex = {}\n",
    "for searchTerm in words:\n",
    "    searchPosition = set()\n",
    "    for docNum,docWords in numWords:\n",
    "        for word in docWords:\n",
    "            if searchTerm == word: \n",
    "                searchPosition.add(docNum)\n",
    "    inverseIndex.update({searchTerm:list(searchPosition)})\n",
    "\n",
    "inverseIndex"
   ]
  },
  {
   "cell_type": "markdown",
   "metadata": {},
   "source": [
    "# And Search"
   ]
  },
  {
   "cell_type": "code",
   "execution_count": 195,
   "metadata": {
    "collapsed": false
   },
   "outputs": [],
   "source": [
    "query = ['in', 'is', 'Texas']"
   ]
  },
  {
   "cell_type": "code",
   "execution_count": 196,
   "metadata": {
    "collapsed": false
   },
   "outputs": [
    {
     "data": {
      "text/plain": [
       "{2}"
      ]
     },
     "execution_count": 196,
     "metadata": {},
     "output_type": "execute_result"
    }
   ],
   "source": [
    "docWithWord = set()\n",
    "tempList = []\n",
    "tempSet = set()\n",
    "\n",
    "for i in range(len(query)):\n",
    "    if query[i] in inverseIndex:\n",
    "        tempList.append([query[i],inverseIndex[query[i]]])\n",
    "        for keyList,valueList in tempList:\n",
    "            if len(tempSet) == 0:\n",
    "                tempSet = set(valueList)\n",
    "            docWithWord = set(valueList) & set(tempSet)\n",
    "    else:\n",
    "        print('none found') \n",
    "        docWithWord = set()\n",
    "        break\n",
    "docWithWord"
   ]
  },
  {
   "cell_type": "markdown",
   "metadata": {},
   "source": [
    "# Or Search"
   ]
  },
  {
   "cell_type": "code",
   "execution_count": 11,
   "metadata": {
    "collapsed": true
   },
   "outputs": [],
   "source": [
    "query = ['in', 'sam', 'john']"
   ]
  },
  {
   "cell_type": "code",
   "execution_count": 12,
   "metadata": {
    "collapsed": true
   },
   "outputs": [],
   "source": [
    "docWithWord = set()\n",
    "for searchTerm in query:\n",
    "    if searchTerm in inverseIndex:\n",
    "        docWithWord.update(inverseIndex[searchTerm])"
   ]
  },
  {
   "cell_type": "code",
   "execution_count": 13,
   "metadata": {
    "collapsed": false
   },
   "outputs": [
    {
     "data": {
      "text/plain": [
       "{0, 1, 2}"
      ]
     },
     "execution_count": 13,
     "metadata": {},
     "output_type": "execute_result"
    }
   ],
   "source": [
    "docWithWord"
   ]
  },
  {
   "cell_type": "markdown",
   "metadata": {},
   "source": [
    "# Test"
   ]
  },
  {
   "cell_type": "code",
   "execution_count": 14,
   "metadata": {
    "collapsed": false
   },
   "outputs": [],
   "source": [
    "from inverse_index_lab_2 import makeInverseIndex\n",
    "from orSearch_lab import orSearch\n",
    "from andSearch_lab import andSearch"
   ]
  },
  {
   "cell_type": "code",
   "execution_count": 15,
   "metadata": {
    "collapsed": true
   },
   "outputs": [],
   "source": [
    "invIndex = makeInverseIndex('stories_small.txt')"
   ]
  },
  {
   "cell_type": "code",
   "execution_count": 21,
   "metadata": {
    "collapsed": false
   },
   "outputs": [
    {
     "data": {
      "text/plain": [
       "50"
      ]
     },
     "execution_count": 21,
     "metadata": {},
     "output_type": "execute_result"
    }
   ],
   "source": [
    "result1 = orSearch(invIndex, ['the','and','I'])\n",
    "len(result1)"
   ]
  },
  {
   "cell_type": "code",
   "execution_count": 22,
   "metadata": {
    "collapsed": false
   },
   "outputs": [
    {
     "data": {
      "text/plain": [
       "21"
      ]
     },
     "execution_count": 22,
     "metadata": {},
     "output_type": "execute_result"
    }
   ],
   "source": [
    "result2 = andSearch(invIndex, ['the','and','I'])\n",
    "len(result2)"
   ]
  }
 ],
 "metadata": {
  "kernelspec": {
   "display_name": "Python 2",
   "language": "python",
   "name": "python2"
  },
  "language_info": {
   "codemirror_mode": {
    "name": "ipython",
    "version": 2
   },
   "file_extension": ".py",
   "mimetype": "text/x-python",
   "name": "python",
   "nbconvert_exporter": "python",
   "pygments_lexer": "ipython2",
   "version": "2.7.11"
  }
 },
 "nbformat": 4,
 "nbformat_minor": 0
}
